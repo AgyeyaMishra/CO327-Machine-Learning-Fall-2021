{
  "nbformat": 4,
  "nbformat_minor": 0,
  "metadata": {
    "colab": {
      "name": "Python & Machine Learning Basics.ipynb",
      "provenance": [],
      "collapsed_sections": []
    },
    "kernelspec": {
      "name": "python3",
      "display_name": "Python 3"
    },
    "language_info": {
      "name": "python"
    }
  },
  "cells": [
    {
      "cell_type": "code",
      "metadata": {
        "id": "vEzTsiKskcDe"
      },
      "source": [
        "OBJECTIVE:\n",
        "Introduction to Python and its basic code, syntax for machine learning, supervised learning and unsupervised learning."
      ],
      "execution_count": null,
      "outputs": []
    },
    {
      "cell_type": "code",
      "metadata": {
        "id": "Oo-P9Q6ceZhM"
      },
      "source": [
        "Python:\n",
        "It is a widely used general-purpose, high level programming language. \n",
        "It was created by Guido van Rossum in 1991 and further developed by the Python Software Foundation. \n",
        "It was designed with an emphasis on code readability, and its syntax allows programmers to express their concepts in fewer lines of code."
      ],
      "execution_count": null,
      "outputs": []
    },
    {
      "cell_type": "code",
      "metadata": {
        "id": "nYffB9O6ejq2"
      },
      "source": [
        "Versions:\n",
        "There are two major python version: Python 2 and Python 3.\n",
        "Both are quite different from each other."
      ],
      "execution_count": null,
      "outputs": []
    },
    {
      "cell_type": "code",
      "metadata": {
        "id": "uMsYm4dme9TS"
      },
      "source": [
        "Variables:\n",
        "In other programming languages like C, C++, and Java, you will need to declare the type of variables but in Python we don’t need to do that. \n",
        "We can just type in the variable and when values will be given to it, then it will automatically know whether the value given would be an int, float, or char or even a String."
      ],
      "execution_count": null,
      "outputs": []
    },
    {
      "cell_type": "code",
      "metadata": {
        "colab": {
          "base_uri": "https://localhost:8080/"
        },
        "id": "IzEJ2-aVfmhj",
        "outputId": "633ff57e-6820-4a1a-8459-0c082428ee96"
      },
      "source": [
        "# Python program to declare variables\n",
        "firstNumber = 10\n",
        "print(firstNumber)\n",
        "\n",
        "secondNumber = 10.6\n",
        "print(secondNumber)\n",
        "\n",
        "firstNumber =\"Hello World\"\n",
        "print(firstNumber)\n"
      ],
      "execution_count": null,
      "outputs": [
        {
          "output_type": "stream",
          "text": [
            "10\n",
            "10.6\n",
            "Hello World\n"
          ],
          "name": "stdout"
        }
      ]
    },
    {
      "cell_type": "code",
      "metadata": {
        "id": "WlGspVNAgONM"
      },
      "source": [
        "Data Structures:\n",
        "Python has mainly 4 built-in type data structures.\n",
        "They are List, Dictionary, Tuple and Set."
      ],
      "execution_count": null,
      "outputs": []
    },
    {
      "cell_type": "code",
      "metadata": {
        "id": "_B6yo3lUgftt"
      },
      "source": [
        "List:\n",
        "List is the most basic Data Structure in python. \n",
        "List is a mutable data structure i.e items can be added to list later after the list creation. \n",
        "append() function is used to add data to the list."
      ],
      "execution_count": null,
      "outputs": []
    },
    {
      "cell_type": "code",
      "metadata": {
        "colab": {
          "base_uri": "https://localhost:8080/"
        },
        "id": "fgviqwWVgrX7",
        "outputId": "b395a2d9-28a4-4f11-fa4b-24da5edcd3da"
      },
      "source": [
        "# Python program to illustrate a list \n",
        "  \n",
        "# creates a empty list\n",
        "numbers = [] \n",
        "  \n",
        "# appending data in list\n",
        "numbers.append(30)\n",
        "numbers.append(35.5)\n",
        "numbers.append(\"String\")\n",
        "  \n",
        "print(numbers)"
      ],
      "execution_count": null,
      "outputs": [
        {
          "output_type": "stream",
          "text": [
            "[30, 35.5, 'String']\n"
          ],
          "name": "stdout"
        }
      ]
    },
    {
      "cell_type": "code",
      "metadata": {
        "id": "lPmEIbYohsaF"
      },
      "source": [
        "Input and Output:\n",
        "Here, we will see how to take input from the user and hence manipulate it or simply display it. \n",
        "input() function is used to take input from the user."
      ],
      "execution_count": null,
      "outputs": []
    },
    {
      "cell_type": "code",
      "metadata": {
        "colab": {
          "base_uri": "https://localhost:8080/"
        },
        "id": "VhjVfXfrkokU",
        "outputId": "d671d1f5-e827-47db-c97b-c792aee73bc9"
      },
      "source": [
        "# Python program to illustrate getting input from user\n",
        "name = input(\"Enter your name: \") \n",
        "  \n",
        "# user entered the name 'Agyeya'\n",
        "print(\"Hello\", name)"
      ],
      "execution_count": null,
      "outputs": [
        {
          "output_type": "stream",
          "text": [
            "Enter your name: Agyeya\n",
            "Hello Agyeya\n"
          ],
          "name": "stdout"
        }
      ]
    },
    {
      "cell_type": "code",
      "metadata": {
        "colab": {
          "base_uri": "https://localhost:8080/"
        },
        "id": "1cwBtxdGk3o5",
        "outputId": "a4103d1c-c41b-48f9-baef-b5e6fc33e8fa"
      },
      "source": [
        "# Python program to get input from user\n",
        "  \n",
        "# accepting integer from the user\n",
        "# the return type of input() function is string ,\n",
        "# so we need to convert the input to integer\n",
        "number1 = int(input(\"Enter first number : \"))\n",
        "number2 = int(input(\"Enter second number : \"))\n",
        "  \n",
        "number3 = number1 * number2\n",
        "print(\"Product is : \", number3)"
      ],
      "execution_count": null,
      "outputs": [
        {
          "output_type": "stream",
          "text": [
            "Enter first number : 5\n",
            "Enter second number : 10\n",
            "Product is :  50\n"
          ],
          "name": "stdout"
        }
      ]
    },
    {
      "cell_type": "code",
      "metadata": {
        "id": "Uv9XoLq9tJVt"
      },
      "source": [
        "Dictionary:\n",
        "Dictionary in Python is an ordered collection of data values, used to store data values like a map, which, unlike other Data Types that hold only a single value as an element, Dictionary holds key:value pair. \n",
        "Key-value is provided in the dictionary to make it more optimized. "
      ],
      "execution_count": null,
      "outputs": []
    },
    {
      "cell_type": "code",
      "metadata": {
        "colab": {
          "base_uri": "https://localhost:8080/"
        },
        "id": "pacacbgrtSSx",
        "outputId": "9fc9c6ac-ad06-4090-96df-af5cb2863b99"
      },
      "source": [
        "# Creating a Dictionary\n",
        "# with Integer Keys\n",
        "Dict = {1: 'A', 2: 'B', 3: 'C'}\n",
        "print(\"\\nDictionary with the use of Integer Keys: \")\n",
        "print(Dict)\n",
        " \n",
        "# Creating a Dictionary\n",
        "# with Mixed keys\n",
        "Dict = {'Name': 'Agyeya', 1: [1, 2, 3, 4]}\n",
        "print(\"\\nDictionary with the use of Mixed Keys: \")\n",
        "print(Dict)"
      ],
      "execution_count": null,
      "outputs": [
        {
          "output_type": "stream",
          "text": [
            "\n",
            "Dictionary with the use of Integer Keys: \n",
            "{1: 'A', 2: 'B', 3: 'C'}\n",
            "\n",
            "Dictionary with the use of Mixed Keys: \n",
            "{'Name': 'Agyeya', 1: [1, 2, 3, 4]}\n"
          ],
          "name": "stdout"
        }
      ]
    },
    {
      "cell_type": "code",
      "metadata": {
        "id": "oKXsbpe-tdaD"
      },
      "source": [
        "Tuple:\n",
        "A Tuple is a collection of Python objects separated by commas. \n",
        "In someways a tuple is similar to a list in terms of indexing, nested objects and repetition but a tuple is immutable unlike lists which are mutable."
      ],
      "execution_count": null,
      "outputs": []
    },
    {
      "cell_type": "code",
      "metadata": {
        "colab": {
          "base_uri": "https://localhost:8080/"
        },
        "id": "3mVLkLmjtiEW",
        "outputId": "d9f350e6-d7da-4b86-8a1c-6b163af53b3c"
      },
      "source": [
        "# Creating non-empty tuples\n",
        "  \n",
        "# One way of creation\n",
        "tup = 'python', 'Agyeya'\n",
        "print(tup)"
      ],
      "execution_count": null,
      "outputs": [
        {
          "output_type": "stream",
          "text": [
            "('python', 'Agyeya')\n"
          ],
          "name": "stdout"
        }
      ]
    },
    {
      "cell_type": "code",
      "metadata": {
        "id": "A-Lwv9G-t5mm"
      },
      "source": [
        "Set:\n",
        "A Set is an unordered collection data type that is iterable, mutable and has no duplicate elements."
      ],
      "execution_count": null,
      "outputs": []
    },
    {
      "cell_type": "code",
      "metadata": {
        "colab": {
          "base_uri": "https://localhost:8080/"
        },
        "id": "Dqae-7yJt7rb",
        "outputId": "269acf4c-ce41-4a16-ecf0-08be9f651b74"
      },
      "source": [
        "# Python program to demonstrate sets\n",
        "  \n",
        "# Same as {\"a\", \"b\", \"c\"}\n",
        "myset = set([\"a\", \"b\", \"c\"])\n",
        "print(myset)\n",
        "  \n",
        "# Adding element to the set\n",
        "myset.add(\"d\")\n",
        "print(myset)"
      ],
      "execution_count": null,
      "outputs": [
        {
          "output_type": "stream",
          "text": [
            "{'b', 'c', 'a'}\n",
            "{'b', 'c', 'a', 'd'}\n"
          ],
          "name": "stdout"
        }
      ]
    },
    {
      "cell_type": "code",
      "metadata": {
        "id": "mthW5FqElO48"
      },
      "source": [
        "Selection:\n",
        "Selection in Python is made using the two keywords ‘if’ and ‘elif’ and else (elseif)"
      ],
      "execution_count": null,
      "outputs": []
    },
    {
      "cell_type": "code",
      "metadata": {
        "colab": {
          "base_uri": "https://localhost:8080/"
        },
        "id": "15bJ1cq_lasH",
        "outputId": "010872a8-a7f0-4608-8d87-79f97559dfd5"
      },
      "source": [
        "# Python program to illustrate selection statement\n",
        "  \n",
        "number1 = 34\n",
        "\n",
        "if(number1>12):\n",
        "    print(\"Entered number is greater than 12\")\n",
        "\n",
        "elif(number1<=12 and number1>=5):\n",
        "    print(\"Entered number is less than or equal to 12 but greater than or equal to 5\")\n",
        "else:\n",
        "    print(\"Number is less than 5\")"
      ],
      "execution_count": null,
      "outputs": [
        {
          "output_type": "stream",
          "text": [
            "Entered number is greater than 12\n"
          ],
          "name": "stdout"
        }
      ]
    },
    {
      "cell_type": "code",
      "metadata": {
        "id": "MqBugpGtmTIt"
      },
      "source": [
        "Functions:\n",
        "Functions are like a bunch of code that are intended to do a particular task in the whole Python script. \n",
        "Python used the keyword ‘def’ to define a function\n",
        "\n",
        "Syntax:\n",
        "def function-name(arguments):\n",
        "            #function body"
      ],
      "execution_count": null,
      "outputs": []
    },
    {
      "cell_type": "code",
      "metadata": {
        "colab": {
          "base_uri": "https://localhost:8080/"
        },
        "id": "MKTaZAWgmm6-",
        "outputId": "f71fb350-70cd-4a9d-ad1d-5ed7b26559d0"
      },
      "source": [
        "# Python program to illustrate functions\n",
        "def hello():\n",
        "    print(\"Hello\")\n",
        "    print(\"Hello again\")\n",
        "  \n",
        "# calling function\n",
        "hello()   "
      ],
      "execution_count": null,
      "outputs": [
        {
          "output_type": "stream",
          "text": [
            "Hello\n",
            "Hello again\n"
          ],
          "name": "stdout"
        }
      ]
    },
    {
      "cell_type": "code",
      "metadata": {
        "colab": {
          "base_uri": "https://localhost:8080/"
        },
        "id": "3VK8Wp9XmyzG",
        "outputId": "437812f5-99ef-4e29-a2b8-7cc3f704ce41"
      },
      "source": [
        "# Python program to illustrate function with main\n",
        "\n",
        "def getInteger():\n",
        "    result = int(input(\"Enter integer : \"))\n",
        "    return result\n",
        "  \n",
        "def Main():\n",
        "    print(\"Started\")\n",
        "  \n",
        "    # calling the getInteger function and \n",
        "    # storing its returned value in the output variable\n",
        "    output = getInteger()     \n",
        "    print(\"Interger = \" + str(output))\n",
        "  \n",
        "# now we are required to tell Python \n",
        "# for 'Main' function existence\n",
        "if __name__==\"__main__\":\n",
        "    Main()"
      ],
      "execution_count": null,
      "outputs": [
        {
          "output_type": "stream",
          "text": [
            "Started\n",
            "Enter integer : 5\n",
            "Interger = 5\n"
          ],
          "name": "stdout"
        }
      ]
    },
    {
      "cell_type": "code",
      "metadata": {
        "id": "b5MQbZVknQ7J"
      },
      "source": [
        "Iteration (Looping):\n",
        "These are used to iterate over a sequence (that is either a list, a tuple, a dictionary, a set, or a string) repeatedly. \n",
        "We will use for loop to demonstrate here."
      ],
      "execution_count": null,
      "outputs": []
    },
    {
      "cell_type": "code",
      "metadata": {
        "colab": {
          "base_uri": "https://localhost:8080/"
        },
        "id": "ErJw1Ssmno1z",
        "outputId": "b6f45afd-b5cf-4305-ced1-651769177c0c"
      },
      "source": [
        "# Python program to illustrate\n",
        "# a simple for loop\n",
        "  \n",
        "for step in range(5):    \n",
        "    print(step, end = \" \")"
      ],
      "execution_count": null,
      "outputs": [
        {
          "output_type": "stream",
          "text": [
            "0 1 2 3 4 "
          ],
          "name": "stdout"
        }
      ]
    },
    {
      "cell_type": "code",
      "metadata": {
        "id": "vsyu6DNsn5TV"
      },
      "source": [
        "Module:\n",
        "A module is a file containing Python definitions and statements. \n",
        "A module can define functions, classes, and variables. \n",
        "A module can also include runnable code. Grouping related code into a module makes the code easier to understand and use. \n",
        "It also makes the code logically organized.\n",
        "‘import’ keyword is used to import a particular module into your python code."
      ],
      "execution_count": null,
      "outputs": []
    },
    {
      "cell_type": "code",
      "metadata": {
        "colab": {
          "base_uri": "https://localhost:8080/"
        },
        "id": "oGoCdVuFoIbA",
        "outputId": "838aa053-296e-4f07-f9aa-85b0c3f3f4e1"
      },
      "source": [
        "# Python program to illustrate\n",
        "# math module\n",
        "import math\n",
        "  \n",
        "def Main():\n",
        "    number = -85\n",
        "  \n",
        "    # fabs is used to get the absolute value of a decimal\n",
        "    number = math.fabs(number) \n",
        "    print(number)\n",
        "      \n",
        "      \n",
        "if __name__==\"__main__\":\n",
        "    Main()"
      ],
      "execution_count": null,
      "outputs": [
        {
          "output_type": "stream",
          "text": [
            "85.0\n"
          ],
          "name": "stdout"
        }
      ]
    },
    {
      "cell_type": "code",
      "metadata": {
        "id": "CL8iqHw2of9b"
      },
      "source": [
        "Machine Learning:\n",
        "Machine Learning is the field of study that gives computers the capability to learn without being explicitly programmed. "
      ],
      "execution_count": null,
      "outputs": []
    },
    {
      "cell_type": "code",
      "metadata": {
        "id": "9HRrzpyTqBDJ"
      },
      "source": [
        "Types of Machine Learning Problems:\n",
        "1. On basis of the nature of the learning “signal” or “feedback” available to a learning system\n",
        "\n",
        "Supervised learning: \n",
        "The computer is presented with example inputs and their desired outputs, given by a “teacher”, and the goal is to learn a general rule that maps inputs to outputs. \n",
        "The training process continues until the model achieves the desired level of accuracy on the training data. Some real-life examples are:\n",
        "\n",
        "- Image Classification: You train with images/labels. Then in the future you give a new image expecting that the computer will recognize the new object.\n",
        "- Market Prediction/Regression: You train the computer with historical market data and ask the computer to predict the new price in the future.\n",
        "\n",
        "Unsupervised learning: \n",
        "No labels are given to the learning algorithm, leaving it on its own to find structure in its input. \n",
        "It is used for clustering population in different groups. Unsupervised learning can be a goal in itself (discovering hidden patterns in data).\n",
        "\n",
        "Clustering: \n",
        "You ask the computer to separate similar data into clusters, this is essential in research and science.\n",
        "\n",
        "High Dimension Visualization: \n",
        "Use the computer to help us visualize high dimension data.\n",
        "\n",
        "Generative Models: \n",
        "After a model captures the probability distribution of your input data, it will be able to generate more data. \n",
        "This can be very useful to make your classifier more robust."
      ],
      "execution_count": null,
      "outputs": []
    },
    {
      "cell_type": "code",
      "metadata": {
        "id": "jT1oPmKPqpJe"
      },
      "source": [
        "2. On the basis of “output” desired from a machine learned system\n",
        "\n",
        "Classification: \n",
        "Inputs are divided into two or more classes, and the learner must produce a model that assigns unseen inputs to one or more (multi-label classification) of these classes. \n",
        "This is typically tackled in a supervised way. \n",
        "Spam filtering is an example of classification, where the inputs are email (or other) messages and the classes are “spam” and “not spam”.\n",
        "\n",
        "Regression: \n",
        "It is also a supervised learning problem, but the outputs are continuous rather than discrete. For example, predicting the stock prices using historical data.\n",
        "\n",
        "Clustering: \n",
        "Here, a set of inputs is to be divided into groups. Unlike in classification, the groups are not known beforehand, making this typically an unsupervised task.\n",
        "\n",
        "Density estimation: The task is to find the distribution of inputs in some space.\n",
        "\n",
        "Dimensionality reduction: \n",
        "It simplifies inputs by mapping them into a lower-dimensional space. \n",
        "Topic modeling is a related problem, where a program is given a list of human language documents and is tasked to find out which documents cover similar topics."
      ],
      "execution_count": null,
      "outputs": []
    },
    {
      "cell_type": "code",
      "metadata": {
        "id": "_rP4f5Cwr-oG"
      },
      "source": [
        "Python libraries that used in Machine Learning are: \n",
        " \n",
        "Numpy\n",
        "Scipy\n",
        "Scikit-learn\n",
        "Theano\n",
        "TensorFlow\n",
        "Keras\n",
        "PyTorch\n",
        "Pandas\n",
        "Matplotlib"
      ],
      "execution_count": null,
      "outputs": []
    }
  ]
}
