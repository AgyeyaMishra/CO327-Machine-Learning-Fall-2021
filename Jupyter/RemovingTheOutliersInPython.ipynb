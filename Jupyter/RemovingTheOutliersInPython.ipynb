{
  "nbformat": 4,
  "nbformat_minor": 0,
  "metadata": {
    "colab": {
      "name": "RemovingTheOutliersInPython",
      "provenance": [],
      "collapsed_sections": []
    },
    "kernelspec": {
      "name": "python3",
      "display_name": "Python 3"
    },
    "language_info": {
      "name": "python"
    }
  },
  "cells": [
    {
      "cell_type": "code",
      "metadata": {
        "id": "WiJ-8iir2-ea"
      },
      "source": [
        "Removing the outliers:\n",
        "For removing the outlier, one must follow the same process of removing an entry from the dataset using its exact position in the dataset because in all the above methods of detecting the outliers end result is the list of all those data items that satisfy the outlier definition according to the method used."
      ],
      "execution_count": null,
      "outputs": []
    },
    {
      "cell_type": "code",
      "metadata": {
        "id": "xVlsl0LL3Ukg"
      },
      "source": [
        "dataframe.drop( row_index, inplace = True)"
      ],
      "execution_count": null,
      "outputs": []
    },
    {
      "cell_type": "code",
      "metadata": {
        "id": "Wz5q9Xtj3Vaj"
      },
      "source": [
        "The above code can be used to drop a row from the dataset given the row_indexes to be dropped. Inplace =True is used to tell python to make the required change in the original dataset. row_index can be only one value or list of values or NumPy array but it must be one dimensional.\n",
        "\n",
        "Example:\n",
        "df_boston.drop(lists[0],inplace = True)"
      ],
      "execution_count": null,
      "outputs": []
    },
    {
      "cell_type": "code",
      "metadata": {
        "colab": {
          "base_uri": "https://localhost:8080/"
        },
        "id": "SZmPw8bA3bQ0",
        "outputId": "b0b06f65-62b7-4370-b964-32908666125a"
      },
      "source": [
        "# Detecting the outlier using IQR method and removing them:\n",
        "# Importing\n",
        "import sklearn\n",
        "from sklearn.datasets import load_boston\n",
        "import numpy as np\n",
        "import pandas as pd\n",
        " \n",
        "# Load the dataset\n",
        "bos_hou = load_boston()\n",
        " \n",
        "# Create the dataframe\n",
        "column_name = bos_hou.feature_names\n",
        "df_boston = pd.DataFrame(bos_hou.data)\n",
        "df_boston.columns = column_name\n",
        "df_boston.head()\n",
        " \n",
        "''' Detection '''\n",
        "# IQR\n",
        "Q1 = np.percentile(df_boston['DIS'], 25,\n",
        "                   interpolation = 'midpoint')\n",
        " \n",
        "Q3 = np.percentile(df_boston['DIS'], 75,\n",
        "                   interpolation = 'midpoint')\n",
        "IQR = Q3 - Q1\n",
        " \n",
        "print(\"Old Shape: \", df_boston.shape)\n",
        " \n",
        "# Upper bound\n",
        "upper = np.where(df_boston['DIS'] >= (Q3+1.5*IQR))\n",
        "# Lower bound\n",
        "lower = np.where(df_boston['DIS'] <= (Q1-1.5*IQR))\n",
        " \n",
        "''' Removing the Outliers '''\n",
        "df_boston.drop(upper[0], inplace = True)\n",
        "df_boston.drop(lower[0], inplace = True)\n",
        " \n",
        "print(\"New Shape: \", df_boston.shape)"
      ],
      "execution_count": null,
      "outputs": [
        {
          "output_type": "stream",
          "name": "stdout",
          "text": [
            "Old Shape:  (506, 13)\n",
            "New Shape:  (501, 13)\n"
          ]
        }
      ]
    }
  ]
}